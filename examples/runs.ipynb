{
 "cells": [
  {
   "cell_type": "code",
   "execution_count": 1,
   "metadata": {},
   "outputs": [],
   "source": [
    "from Crypto.Cipher import AES\n"
   ]
  },
  {
   "cell_type": "code",
   "execution_count": 3,
   "metadata": {},
   "outputs": [],
   "source": [
    "data = '''hola, Jona\n",
    "Aquí bien y tú\n",
    "'''"
   ]
  },
  {
   "cell_type": "code",
   "execution_count": 4,
   "metadata": {},
   "outputs": [
    {
     "name": "stdout",
     "output_type": "stream",
     "text": [
      "b'\\x01lk.\\xa0\\xe8\\xde=\\xdd\\xd5\\xd3\\x90\\xd2{\\n\\xff\\x19p\\x1dp8\\xd51V-N\\xb2\\xbc\\n\\x08\\xd9\\x0e'\n"
     ]
    },
    {
     "ename": "TypeError",
     "evalue": "Object type <class 'str'> cannot be passed to C code",
     "output_type": "error",
     "traceback": [
      "\u001b[1;31m---------------------------------------------------------------------------\u001b[0m",
      "\u001b[1;31mTypeError\u001b[0m                                 Traceback (most recent call last)",
      "\u001b[1;32m~\\AppData\\Local\\Temp/ipykernel_11716/4093086272.py\u001b[0m in \u001b[0;36m<module>\u001b[1;34m\u001b[0m\n\u001b[0;32m      5\u001b[0m \u001b[0mprint\u001b[0m\u001b[1;33m(\u001b[0m\u001b[0mkey\u001b[0m\u001b[1;33m)\u001b[0m\u001b[1;33m\u001b[0m\u001b[1;33m\u001b[0m\u001b[0m\n\u001b[0;32m      6\u001b[0m \u001b[0mcipher\u001b[0m \u001b[1;33m=\u001b[0m \u001b[0mAES\u001b[0m\u001b[1;33m.\u001b[0m\u001b[0mnew\u001b[0m\u001b[1;33m(\u001b[0m\u001b[0mkey\u001b[0m\u001b[1;33m,\u001b[0m \u001b[0mAES\u001b[0m\u001b[1;33m.\u001b[0m\u001b[0mMODE_EAX\u001b[0m\u001b[1;33m)\u001b[0m\u001b[1;33m\u001b[0m\u001b[1;33m\u001b[0m\u001b[0m\n\u001b[1;32m----> 7\u001b[1;33m \u001b[0mciphertext\u001b[0m\u001b[1;33m,\u001b[0m \u001b[0mtag\u001b[0m \u001b[1;33m=\u001b[0m \u001b[0mcipher\u001b[0m\u001b[1;33m.\u001b[0m\u001b[0mencrypt_and_digest\u001b[0m\u001b[1;33m(\u001b[0m\u001b[0mdata\u001b[0m\u001b[1;33m)\u001b[0m\u001b[1;33m\u001b[0m\u001b[1;33m\u001b[0m\u001b[0m\n\u001b[0m\u001b[0;32m      8\u001b[0m \u001b[1;33m\u001b[0m\u001b[0m\n\u001b[0;32m      9\u001b[0m \u001b[0mfile_out\u001b[0m \u001b[1;33m=\u001b[0m \u001b[0mopen\u001b[0m\u001b[1;33m(\u001b[0m\u001b[1;34m\"encrypted.tzt\"\u001b[0m\u001b[1;33m,\u001b[0m \u001b[1;34m\"wb\"\u001b[0m\u001b[1;33m)\u001b[0m\u001b[1;33m\u001b[0m\u001b[1;33m\u001b[0m\u001b[0m\n",
      "\u001b[1;32mC:\\Program Files\\Python39\\lib\\site-packages\\Crypto\\Cipher\\_mode_eax.py\u001b[0m in \u001b[0;36mencrypt_and_digest\u001b[1;34m(self, plaintext, output)\u001b[0m\n\u001b[0;32m    344\u001b[0m         \"\"\"\n\u001b[0;32m    345\u001b[0m \u001b[1;33m\u001b[0m\u001b[0m\n\u001b[1;32m--> 346\u001b[1;33m         \u001b[1;32mreturn\u001b[0m \u001b[0mself\u001b[0m\u001b[1;33m.\u001b[0m\u001b[0mencrypt\u001b[0m\u001b[1;33m(\u001b[0m\u001b[0mplaintext\u001b[0m\u001b[1;33m,\u001b[0m \u001b[0moutput\u001b[0m\u001b[1;33m=\u001b[0m\u001b[0moutput\u001b[0m\u001b[1;33m)\u001b[0m\u001b[1;33m,\u001b[0m \u001b[0mself\u001b[0m\u001b[1;33m.\u001b[0m\u001b[0mdigest\u001b[0m\u001b[1;33m(\u001b[0m\u001b[1;33m)\u001b[0m\u001b[1;33m\u001b[0m\u001b[1;33m\u001b[0m\u001b[0m\n\u001b[0m\u001b[0;32m    347\u001b[0m \u001b[1;33m\u001b[0m\u001b[0m\n\u001b[0;32m    348\u001b[0m     \u001b[1;32mdef\u001b[0m \u001b[0mdecrypt_and_verify\u001b[0m\u001b[1;33m(\u001b[0m\u001b[0mself\u001b[0m\u001b[1;33m,\u001b[0m \u001b[0mciphertext\u001b[0m\u001b[1;33m,\u001b[0m \u001b[0mreceived_mac_tag\u001b[0m\u001b[1;33m,\u001b[0m \u001b[0moutput\u001b[0m\u001b[1;33m=\u001b[0m\u001b[1;32mNone\u001b[0m\u001b[1;33m)\u001b[0m\u001b[1;33m:\u001b[0m\u001b[1;33m\u001b[0m\u001b[1;33m\u001b[0m\u001b[0m\n",
      "\u001b[1;32mC:\\Program Files\\Python39\\lib\\site-packages\\Crypto\\Cipher\\_mode_eax.py\u001b[0m in \u001b[0;36mencrypt\u001b[1;34m(self, plaintext, output)\u001b[0m\n\u001b[0;32m    193\u001b[0m                             \" initialization or an update()\")\n\u001b[0;32m    194\u001b[0m         \u001b[0mself\u001b[0m\u001b[1;33m.\u001b[0m\u001b[0m_next\u001b[0m \u001b[1;33m=\u001b[0m \u001b[1;33m[\u001b[0m\u001b[0mself\u001b[0m\u001b[1;33m.\u001b[0m\u001b[0mencrypt\u001b[0m\u001b[1;33m,\u001b[0m \u001b[0mself\u001b[0m\u001b[1;33m.\u001b[0m\u001b[0mdigest\u001b[0m\u001b[1;33m]\u001b[0m\u001b[1;33m\u001b[0m\u001b[1;33m\u001b[0m\u001b[0m\n\u001b[1;32m--> 195\u001b[1;33m         \u001b[0mct\u001b[0m \u001b[1;33m=\u001b[0m \u001b[0mself\u001b[0m\u001b[1;33m.\u001b[0m\u001b[0m_cipher\u001b[0m\u001b[1;33m.\u001b[0m\u001b[0mencrypt\u001b[0m\u001b[1;33m(\u001b[0m\u001b[0mplaintext\u001b[0m\u001b[1;33m,\u001b[0m \u001b[0moutput\u001b[0m\u001b[1;33m=\u001b[0m\u001b[0moutput\u001b[0m\u001b[1;33m)\u001b[0m\u001b[1;33m\u001b[0m\u001b[1;33m\u001b[0m\u001b[0m\n\u001b[0m\u001b[0;32m    196\u001b[0m         \u001b[1;32mif\u001b[0m \u001b[0moutput\u001b[0m \u001b[1;32mis\u001b[0m \u001b[1;32mNone\u001b[0m\u001b[1;33m:\u001b[0m\u001b[1;33m\u001b[0m\u001b[1;33m\u001b[0m\u001b[0m\n\u001b[0;32m    197\u001b[0m             \u001b[0mself\u001b[0m\u001b[1;33m.\u001b[0m\u001b[0m_omac\u001b[0m\u001b[1;33m[\u001b[0m\u001b[1;36m2\u001b[0m\u001b[1;33m]\u001b[0m\u001b[1;33m.\u001b[0m\u001b[0mupdate\u001b[0m\u001b[1;33m(\u001b[0m\u001b[0mct\u001b[0m\u001b[1;33m)\u001b[0m\u001b[1;33m\u001b[0m\u001b[1;33m\u001b[0m\u001b[0m\n",
      "\u001b[1;32mC:\\Program Files\\Python39\\lib\\site-packages\\Crypto\\Cipher\\_mode_ctr.py\u001b[0m in \u001b[0;36mencrypt\u001b[1;34m(self, plaintext, output)\u001b[0m\n\u001b[0;32m    199\u001b[0m \u001b[1;33m\u001b[0m\u001b[0m\n\u001b[0;32m    200\u001b[0m         result = raw_ctr_lib.CTR_encrypt(self._state.get(),\n\u001b[1;32m--> 201\u001b[1;33m                                          \u001b[0mc_uint8_ptr\u001b[0m\u001b[1;33m(\u001b[0m\u001b[0mplaintext\u001b[0m\u001b[1;33m)\u001b[0m\u001b[1;33m,\u001b[0m\u001b[1;33m\u001b[0m\u001b[1;33m\u001b[0m\u001b[0m\n\u001b[0m\u001b[0;32m    202\u001b[0m                                          \u001b[0mc_uint8_ptr\u001b[0m\u001b[1;33m(\u001b[0m\u001b[0mciphertext\u001b[0m\u001b[1;33m)\u001b[0m\u001b[1;33m,\u001b[0m\u001b[1;33m\u001b[0m\u001b[1;33m\u001b[0m\u001b[0m\n\u001b[0;32m    203\u001b[0m                                          c_size_t(len(plaintext)))\n",
      "\u001b[1;32mC:\\Program Files\\Python39\\lib\\site-packages\\Crypto\\Util\\_raw_api.py\u001b[0m in \u001b[0;36mc_uint8_ptr\u001b[1;34m(data)\u001b[0m\n\u001b[0;32m    141\u001b[0m             \u001b[1;32mreturn\u001b[0m \u001b[0mdata\u001b[0m\u001b[1;33m\u001b[0m\u001b[1;33m\u001b[0m\u001b[0m\n\u001b[0;32m    142\u001b[0m         \u001b[1;32melse\u001b[0m\u001b[1;33m:\u001b[0m\u001b[1;33m\u001b[0m\u001b[1;33m\u001b[0m\u001b[0m\n\u001b[1;32m--> 143\u001b[1;33m             \u001b[1;32mraise\u001b[0m \u001b[0mTypeError\u001b[0m\u001b[1;33m(\u001b[0m\u001b[1;34m\"Object type %s cannot be passed to C code\"\u001b[0m \u001b[1;33m%\u001b[0m \u001b[0mtype\u001b[0m\u001b[1;33m(\u001b[0m\u001b[0mdata\u001b[0m\u001b[1;33m)\u001b[0m\u001b[1;33m)\u001b[0m\u001b[1;33m\u001b[0m\u001b[1;33m\u001b[0m\u001b[0m\n\u001b[0m\u001b[0;32m    144\u001b[0m \u001b[1;33m\u001b[0m\u001b[0m\n\u001b[0;32m    145\u001b[0m     \u001b[1;32mclass\u001b[0m \u001b[0mVoidPointer_cffi\u001b[0m\u001b[1;33m(\u001b[0m\u001b[0m_VoidPointer\u001b[0m\u001b[1;33m)\u001b[0m\u001b[1;33m:\u001b[0m\u001b[1;33m\u001b[0m\u001b[1;33m\u001b[0m\u001b[0m\n",
      "\u001b[1;31mTypeError\u001b[0m: Object type <class 'str'> cannot be passed to C code"
     ]
    }
   ],
   "source": [
    "from Crypto.Cipher import AES\n",
    "from Crypto.Random import get_random_bytes\n",
    "\n",
    "key = get_random_bytes(32)\n",
    "print(key)\n",
    "cipher = AES.new(key, AES.MODE_EAX)\n",
    "ciphertext, tag = cipher.encrypt_and_digest(data)\n",
    "\n",
    "file_out = open(\"encrypted.tzt\", \"wb\")\n",
    "[ file_out.write(x) for x in (cipher.nonce, tag, ciphertext) ]\n",
    "file_out.close()"
   ]
  },
  {
   "cell_type": "code",
   "execution_count": 7,
   "metadata": {},
   "outputs": [
    {
     "name": "stdout",
     "output_type": "stream",
     "text": [
      "b'gV\\xc68\\xc1o-7I\\xc1\\xc2\\xaa\\xc6\\xcbQR\\x16\\x13\\xaf-\\x8f\\xd6%\\xd9\\xea\\xbd\\xc0ej\\xb9\\x12\\xb3'\n"
     ]
    }
   ],
   "source": [
    "from Crypto.Protocol.KDF import PBKDF2\n",
    "\n",
    "salt = b'21/10/2021' # Salt you generated\n",
    "password = 'password123' # Password provided by the user, can use input() to get this\n",
    "\n",
    "key = PBKDF2(password, salt, dkLen=32) # Your key that you can encrypt with\n",
    "print(key)"
   ]
  },
  {
   "cell_type": "code",
   "execution_count": 8,
   "metadata": {},
   "outputs": [],
   "source": [
    "from Crypto.Cipher import AES\n",
    "from Crypto.Util.Padding import pad\n",
    "\n",
    "output_file = 'encrypted.tzt' # Output file\n",
    "data = b'jona reportndose' # Must be a bytes object\n",
    "# key = b'YOUR KEY' # The key you generated\n",
    "\n",
    "# Create cipher object and encrypt the data\n",
    "cipher = AES.new(key, AES.MODE_CBC) # Create a AES cipher object with the key using the mode CBC\n",
    "ciphered_data = cipher.encrypt(pad(data, AES.block_size)) # Pad the input data and then encrypt\n",
    "\n",
    "file_out = open(output_file, \"wb\") # Open file to write bytes\n",
    "file_out.write(cipher.iv) # Write the iv to the output file (will be required for decryption)\n",
    "file_out.write(ciphered_data) # Write the varying length ciphertext to the file (this is the encrypted data)\n",
    "file_out.close()"
   ]
  },
  {
   "cell_type": "code",
   "execution_count": 16,
   "metadata": {},
   "outputs": [],
   "source": [
    "from Crypto.Cipher import AES\n",
    "\n",
    "output_file = 'encrypted.cfb'\n",
    "dataRaw = 'ztjona vamos ahí!'\n",
    "data = bytes(dataRaw, 'utf-8')\n",
    "# key = b'YOUR KEY'\n",
    "\n",
    "cipher = AES.new(key, AES.MODE_CFB) # CFB mode\n",
    "ciphered_data = cipher.encrypt(data) # Only need to encrypt the data, no padding required for this mode\n",
    "\n",
    "file_out = open(output_file, \"wb\")\n",
    "file_out.write(cipher.iv)\n",
    "file_out.write(ciphered_data)\n",
    "file_out.close()"
   ]
  },
  {
   "cell_type": "code",
   "execution_count": 25,
   "metadata": {},
   "outputs": [
    {
     "name": "stdout",
     "output_type": "stream",
     "text": [
      "b'\\x84\\x90\\xfa\\x9b\\xa8\\x83\\xd6\\x9e\\xa4I\\xda\\xd7\\xa4\\xebt\\x08'\n"
     ]
    }
   ],
   "source": [
    "cipher = AES.new(key, AES.MODE_CFB) # CFB mode\n",
    "vi = cipher.iv\n",
    "print(cipher.iv)"
   ]
  },
  {
   "cell_type": "code",
   "execution_count": 32,
   "metadata": {},
   "outputs": [],
   "source": [
    "w = [b'\\r\\n', b'# Byte-compiled / optimized / DLL files\\r\\n', b'__pycache__/\\r\\n', b'*.py[cod]\\r\\n', b'*$py.class\\r\\n', b'\\r\\n', b'# C extensions\\r\\n', b'*.so\\r\\n', b'\\r\\n', b'# Distribution / packaging\\r\\n', b'.Python\\r\\n', b'build/\\r\\n', b'develop-eggs/\\r\\n', b'dist/\\r\\n', b'downloads/\\r\\n', b'eggs/\\r\\n', b'.eggs/\\r\\n']"
   ]
  },
  {
   "cell_type": "code",
   "execution_count": 33,
   "metadata": {},
   "outputs": [
    {
     "name": "stdout",
     "output_type": "stream",
     "text": [
      "b'\\r\\n# Byte-compiled / optimized / DLL files\\r\\n__pycache__/\\r\\n*.py[cod]\\r\\n*$py.class\\r\\n\\r\\n# C extensions\\r\\n*.so\\r\\n\\r\\n# Distribution / packaging\\r\\n.Python\\r\\nbuild/\\r\\ndevelop-eggs/\\r\\ndist/\\r\\ndownloads/\\r\\neggs/\\r\\n.eggs/\\r\\n'\n"
     ]
    }
   ],
   "source": [
    "w2 = b''.join(w)\n",
    "print(w2)"
   ]
  },
  {
   "cell_type": "code",
   "execution_count": 27,
   "metadata": {},
   "outputs": [],
   "source": [
    "# vi = b'\\xcc\\x864\\xce\\xfbs\\xacR\\xcem!>\\x8e\\xfa?S'\n",
    "\n",
    "cipher = AES.new(key, AES.MODE_CFB, iv=vi) # CFB mode"
   ]
  },
  {
   "cell_type": "code",
   "execution_count": 11,
   "metadata": {},
   "outputs": [
    {
     "name": "stdout",
     "output_type": "stream",
     "text": [
      "ztjona vamos ahí!\n"
     ]
    }
   ],
   "source": [
    "from Crypto.Cipher import AES\n",
    "\n",
    "input_file = '..\\encrypted.cfb'\n",
    "# key = b'YOUR KEY'\n",
    "\n",
    "file_in = open(input_file, 'rb')\n",
    "iv = file_in.read(16)\n",
    "ciphered_data = file_in.read()\n",
    "file_in.close()\n",
    "\n",
    "cipher = AES.new(key, AES.MODE_CFB, iv=iv)\n",
    "original_data = cipher.decrypt(ciphered_data) # No need to un-pad\n",
    "print(original_data.decode('UTF-8'))"
   ]
  },
  {
   "cell_type": "code",
   "execution_count": 5,
   "metadata": {},
   "outputs": [
    {
     "name": "stdout",
     "output_type": "stream",
     "text": [
      ".git\n",
      ".gitignore\n",
      "a.cpp\n",
      "a.txt\n",
      "aux2.py\n",
      "b.JPG\n",
      "encrypted.cfb\n",
      "encrypted.tzt\n",
      "enigmer.py\n",
      "examples\n",
      "srcs\n"
     ]
    }
   ],
   "source": [
    "import os\n",
    "for x in os.listdir('..'):\n",
    "    print(x)"
   ]
  },
  {
   "cell_type": "code",
   "execution_count": null,
   "metadata": {},
   "outputs": [],
   "source": []
  }
 ],
 "metadata": {
  "interpreter": {
   "hash": "ac59ebe37160ed0dfa835113d9b8498d9f09ceb179beaac4002f036b9467c963"
  },
  "kernelspec": {
   "display_name": "Python 3.9.1 64-bit",
   "name": "python3"
  },
  "language_info": {
   "codemirror_mode": {
    "name": "ipython",
    "version": 3
   },
   "file_extension": ".py",
   "mimetype": "text/x-python",
   "name": "python",
   "nbconvert_exporter": "python",
   "pygments_lexer": "ipython3",
   "version": "3.9.1"
  },
  "orig_nbformat": 4
 },
 "nbformat": 4,
 "nbformat_minor": 2
}
